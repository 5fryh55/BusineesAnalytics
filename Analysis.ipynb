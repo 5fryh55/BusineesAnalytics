{
 "cells": [
  {
   "cell_type": "code",
   "execution_count": 100,
   "metadata": {
    "pycharm": {
     "name": "#%%\n"
    }
   },
   "outputs": [
    {
     "name": "stdout",
     "output_type": "stream",
     "text": [
      "1/2/2014 5 red\n",
      "1/3/2014 5 green\n",
      "1/4/2014 9 blue\n"
     ]
    }
   ],
   "source": [
    "import csv\n",
    "with open(\"example2.csv\") as csvfile:\n",
    "    readcsv = csv.reader(csvfile, delimiter =\",\")\n",
    "    for col in readcsv:\n",
    "        print(col[0], col[1],  col[3])"
   ]
  },
  {
   "cell_type": "code",
   "execution_count": 101,
   "metadata": {
    "pycharm": {
     "name": "#%%\n"
    }
   },
   "outputs": [
    {
     "name": "stdout",
     "output_type": "stream",
     "text": [
      "(3, 4)\n",
      "[['1/2/2014' '5' '8' 'red']\n",
      " ['1/3/2014' '5' '2' 'green']\n",
      " ['1/4/2014' '9' '1' 'blue']]\n"
     ]
    }
   ],
   "source": [
    "from numpy import loadtxt\n",
    "from numpy import genfromtxt\n",
    "\n",
    "datalocation = open(\"example2.csv\", 'r')\n",
    "data = genfromtxt(datalocation, delimiter = ',', dtype =str)\n",
    "print(data.shape)\n",
    "print(data[:3])\n"
   ]
  },
  {
   "cell_type": "markdown",
   "metadata": {
    "pycharm": {
     "name": "#%% md\n"
    }
   },
   "source": []
  },
  {
   "cell_type": "code",
   "execution_count": 102,
   "metadata": {
    "pycharm": {
     "name": "#%%\n"
    }
   },
   "outputs": [
    {
     "name": "stdout",
     "output_type": "stream",
     "text": [
      "(768, 9)\n",
      "[['6' '148' '72' '35' '0' '33.6' '0.627' '50' '1']\n",
      " ['1' '85' '66' '29' '0' '26.6' '0.351' '31' '0']\n",
      " ['8' '183' '64' '0' '0' '23.3' '0.672' '32' '1']]\n"
     ]
    }
   ],
   "source": [
    "from numpy import loadtxt\n",
    "from numpy import genfromtxt\n",
    "\n",
    "datalocation = open(\"pima_indians_diabetes.csv\", 'r')\n",
    "data = genfromtxt(datalocation, delimiter=',', dtype=str)\n",
    "print(data.shape)\n",
    "print(data[:3])"
   ]
  },
  {
   "cell_type": "code",
   "execution_count": 103,
   "metadata": {
    "pycharm": {
     "name": "#%%\n"
    }
   },
   "outputs": [
    {
     "name": "stdout",
     "output_type": "stream",
     "text": [
      "(767, 9)\n",
      "   6  148  72  35    0  33.6  0.627  50  1\n",
      "0  1   85  66  29    0  26.6  0.351  31  0\n",
      "1  8  183  64   0    0  23.3  0.672  32  1\n",
      "2  1   89  66  23   94  28.1  0.167  21  0\n",
      "3  0  137  40  35  168  43.1  2.288  33  1\n",
      "4  5  116  74   0    0  25.6  0.201  30  0\n"
     ]
    }
   ],
   "source": [
    "from pandas import read_csv\n",
    "\n",
    "my_data = read_csv(\"pima_indians_diabetes.csv\", delimiter= ',')\n",
    "print(my_data.shape)\n",
    "print(my_data.head())"
   ]
  },
  {
   "cell_type": "code",
   "execution_count": 104,
   "metadata": {
    "pycharm": {
     "name": "#%%\n"
    }
   },
   "outputs": [
    {
     "name": "stdout",
     "output_type": "stream",
     "text": [
      "(768, 9)\n",
      "   preg  plas  pres  skin  test  mass   pedi  age  class\n",
      "0     6   148    72    35     0  33.6  0.627   50      1\n",
      "1     1    85    66    29     0  26.6  0.351   31      0\n",
      "2     8   183    64     0     0  23.3  0.672   32      1\n",
      "3     1    89    66    23    94  28.1  0.167   21      0\n",
      "4     0   137    40    35   168  43.1  2.288   33      1\n",
      "     preg  plas  pres  skin  test  mass   pedi  age  class\n",
      "763    10   101    76    48   180  32.9  0.171   63      0\n",
      "764     2   122    70    27     0  36.8  0.340   27      0\n",
      "765     5   121    72    23   112  26.2  0.245   30      0\n",
      "766     1   126    60     0     0  30.1  0.349   47      1\n",
      "767     1    93    70    31     0  30.4  0.315   23      0\n"
     ]
    }
   ],
   "source": [
    "import numpy as np\n",
    "import pandas as pd\n",
    "from pandas import  read_csv\n",
    "\n",
    "headers=[\"preg\", 'plas', 'pres', 'skin', 'test', 'mass', 'pedi', 'age', 'class']\n",
    "\n",
    "my_data = read_csv(\"pima_indians_diabetes.csv\", names=headers)\n",
    "print(my_data.shape)\n",
    "print(my_data.head())\n",
    "print(my_data.tail())"
   ]
  },
  {
   "cell_type": "code",
   "execution_count": 105,
   "metadata": {
    "pycharm": {
     "name": "#%%\n"
    }
   },
   "outputs": [
    {
     "data": {
      "text/plain": "preg       3.845052\nplas     120.894531\npres      69.105469\nskin      20.536458\ntest      79.799479\nmass      31.992578\npedi       0.471876\nage       33.240885\nclass      0.348958\ndtype: float64"
     },
     "execution_count": 105,
     "metadata": {},
     "output_type": "execute_result"
    }
   ],
   "source": [
    "import numpy as np\n",
    "import pandas as pd\n",
    "from pandas import  read_csv\n",
    "\n",
    "headers=[\"preg\", 'plas', 'pres', 'skin', 'test', 'mass', 'pedi', 'age', 'class']\n",
    "\n",
    "my_data = read_csv(\"pima_indians_diabetes.csv\", names=headers)\n",
    "\n",
    "my_data.mean()"
   ]
  },
  {
   "cell_type": "code",
   "execution_count": 106,
   "metadata": {
    "pycharm": {
     "name": "#%%\n"
    }
   },
   "outputs": [
    {
     "data": {
      "text/plain": "preg       3.0000\nplas     117.0000\npres      72.0000\nskin      23.0000\ntest      30.5000\nmass      32.0000\npedi       0.3725\nage       29.0000\nclass      0.0000\ndtype: float64"
     },
     "execution_count": 106,
     "metadata": {},
     "output_type": "execute_result"
    }
   ],
   "source": [
    "import numpy as np\n",
    "import pandas as pd\n",
    "from pandas import  read_csv\n",
    "\n",
    "headers=[\"preg\", 'plas', 'pres', 'skin', 'test', 'mass', 'pedi', 'age', 'class']\n",
    "\n",
    "my_data = read_csv(\"pima_indians_diabetes.csv\", names=headers)\n",
    "\n",
    "my_data.median()"
   ]
  },
  {
   "cell_type": "code",
   "execution_count": 106,
   "metadata": {
    "pycharm": {
     "name": "#%%\n"
    }
   },
   "outputs": [],
   "source": []
  },
  {
   "cell_type": "code",
   "execution_count": 107,
   "metadata": {
    "pycharm": {
     "name": "#%%\n"
    }
   },
   "outputs": [
    {
     "data": {
      "text/plain": "   preg  plas  pres  skin  test  mass   pedi   age  class\n0   1.0    99  70.0   0.0   0.0  32.0  0.254  22.0    0.0\n1   NaN   100   NaN   NaN   NaN   NaN  0.258   NaN    NaN",
      "text/html": "<div>\n<style scoped>\n    .dataframe tbody tr th:only-of-type {\n        vertical-align: middle;\n    }\n\n    .dataframe tbody tr th {\n        vertical-align: top;\n    }\n\n    .dataframe thead th {\n        text-align: right;\n    }\n</style>\n<table border=\"1\" class=\"dataframe\">\n  <thead>\n    <tr style=\"text-align: right;\">\n      <th></th>\n      <th>preg</th>\n      <th>plas</th>\n      <th>pres</th>\n      <th>skin</th>\n      <th>test</th>\n      <th>mass</th>\n      <th>pedi</th>\n      <th>age</th>\n      <th>class</th>\n    </tr>\n  </thead>\n  <tbody>\n    <tr>\n      <th>0</th>\n      <td>1.0</td>\n      <td>99</td>\n      <td>70.0</td>\n      <td>0.0</td>\n      <td>0.0</td>\n      <td>32.0</td>\n      <td>0.254</td>\n      <td>22.0</td>\n      <td>0.0</td>\n    </tr>\n    <tr>\n      <th>1</th>\n      <td>NaN</td>\n      <td>100</td>\n      <td>NaN</td>\n      <td>NaN</td>\n      <td>NaN</td>\n      <td>NaN</td>\n      <td>0.258</td>\n      <td>NaN</td>\n      <td>NaN</td>\n    </tr>\n  </tbody>\n</table>\n</div>"
     },
     "execution_count": 107,
     "metadata": {},
     "output_type": "execute_result"
    }
   ],
   "source": [
    "import numpy as np\n",
    "import pandas as pd\n",
    "from pandas import  read_csv\n",
    "\n",
    "headers=[\"preg\", 'plas', 'pres', 'skin', 'test', 'mass', 'pedi', 'age', 'class']\n",
    "\n",
    "my_data = read_csv(\"pima_indians_diabetes.csv\", names=headers)\n",
    "\n",
    "my_data.mode()"
   ]
  },
  {
   "cell_type": "code",
   "execution_count": 108,
   "metadata": {
    "pycharm": {
     "name": "#%%\n"
    }
   },
   "outputs": [
    {
     "data": {
      "text/plain": "             preg        plas        pres        skin        test        mass  \\\ncount  768.000000  768.000000  768.000000  768.000000  768.000000  768.000000   \nmean     3.845052  120.894531   69.105469   20.536458   79.799479   31.992578   \nstd      3.369578   31.972618   19.355807   15.952218  115.244002    7.884160   \nmin      0.000000    0.000000    0.000000    0.000000    0.000000    0.000000   \n25%      1.000000   99.000000   62.000000    0.000000    0.000000   27.300000   \n50%      3.000000  117.000000   72.000000   23.000000   30.500000   32.000000   \n75%      6.000000  140.250000   80.000000   32.000000  127.250000   36.600000   \nmax     17.000000  199.000000  122.000000   99.000000  846.000000   67.100000   \n\n             pedi         age       class  \ncount  768.000000  768.000000  768.000000  \nmean     0.471876   33.240885    0.348958  \nstd      0.331329   11.760232    0.476951  \nmin      0.078000   21.000000    0.000000  \n25%      0.243750   24.000000    0.000000  \n50%      0.372500   29.000000    0.000000  \n75%      0.626250   41.000000    1.000000  \nmax      2.420000   81.000000    1.000000  ",
      "text/html": "<div>\n<style scoped>\n    .dataframe tbody tr th:only-of-type {\n        vertical-align: middle;\n    }\n\n    .dataframe tbody tr th {\n        vertical-align: top;\n    }\n\n    .dataframe thead th {\n        text-align: right;\n    }\n</style>\n<table border=\"1\" class=\"dataframe\">\n  <thead>\n    <tr style=\"text-align: right;\">\n      <th></th>\n      <th>preg</th>\n      <th>plas</th>\n      <th>pres</th>\n      <th>skin</th>\n      <th>test</th>\n      <th>mass</th>\n      <th>pedi</th>\n      <th>age</th>\n      <th>class</th>\n    </tr>\n  </thead>\n  <tbody>\n    <tr>\n      <th>count</th>\n      <td>768.000000</td>\n      <td>768.000000</td>\n      <td>768.000000</td>\n      <td>768.000000</td>\n      <td>768.000000</td>\n      <td>768.000000</td>\n      <td>768.000000</td>\n      <td>768.000000</td>\n      <td>768.000000</td>\n    </tr>\n    <tr>\n      <th>mean</th>\n      <td>3.845052</td>\n      <td>120.894531</td>\n      <td>69.105469</td>\n      <td>20.536458</td>\n      <td>79.799479</td>\n      <td>31.992578</td>\n      <td>0.471876</td>\n      <td>33.240885</td>\n      <td>0.348958</td>\n    </tr>\n    <tr>\n      <th>std</th>\n      <td>3.369578</td>\n      <td>31.972618</td>\n      <td>19.355807</td>\n      <td>15.952218</td>\n      <td>115.244002</td>\n      <td>7.884160</td>\n      <td>0.331329</td>\n      <td>11.760232</td>\n      <td>0.476951</td>\n    </tr>\n    <tr>\n      <th>min</th>\n      <td>0.000000</td>\n      <td>0.000000</td>\n      <td>0.000000</td>\n      <td>0.000000</td>\n      <td>0.000000</td>\n      <td>0.000000</td>\n      <td>0.078000</td>\n      <td>21.000000</td>\n      <td>0.000000</td>\n    </tr>\n    <tr>\n      <th>25%</th>\n      <td>1.000000</td>\n      <td>99.000000</td>\n      <td>62.000000</td>\n      <td>0.000000</td>\n      <td>0.000000</td>\n      <td>27.300000</td>\n      <td>0.243750</td>\n      <td>24.000000</td>\n      <td>0.000000</td>\n    </tr>\n    <tr>\n      <th>50%</th>\n      <td>3.000000</td>\n      <td>117.000000</td>\n      <td>72.000000</td>\n      <td>23.000000</td>\n      <td>30.500000</td>\n      <td>32.000000</td>\n      <td>0.372500</td>\n      <td>29.000000</td>\n      <td>0.000000</td>\n    </tr>\n    <tr>\n      <th>75%</th>\n      <td>6.000000</td>\n      <td>140.250000</td>\n      <td>80.000000</td>\n      <td>32.000000</td>\n      <td>127.250000</td>\n      <td>36.600000</td>\n      <td>0.626250</td>\n      <td>41.000000</td>\n      <td>1.000000</td>\n    </tr>\n    <tr>\n      <th>max</th>\n      <td>17.000000</td>\n      <td>199.000000</td>\n      <td>122.000000</td>\n      <td>99.000000</td>\n      <td>846.000000</td>\n      <td>67.100000</td>\n      <td>2.420000</td>\n      <td>81.000000</td>\n      <td>1.000000</td>\n    </tr>\n  </tbody>\n</table>\n</div>"
     },
     "execution_count": 108,
     "metadata": {},
     "output_type": "execute_result"
    }
   ],
   "source": [
    "import numpy as np\n",
    "import pandas as pd\n",
    "from pandas import  read_csv\n",
    "\n",
    "headers=[\"preg\", 'plas', 'pres', 'skin', 'test', 'mass', 'pedi', 'age', 'class']\n",
    "\n",
    "my_data = read_csv(\"pima_indians_diabetes.csv\", names=headers)\n",
    "\n",
    "my_data.describe()"
   ]
  },
  {
   "cell_type": "code",
   "execution_count": 109,
   "metadata": {
    "pycharm": {
     "name": "#%%\n"
    }
   },
   "outputs": [
    {
     "name": "stdout",
     "output_type": "stream",
     "text": [
      "(771, 9)\n",
      "     preg   plas  pres  skin  test  mass   pedi   age  class\n",
      "440     2  120.0   NaN    26  16.0  36.8  0.766  22.0      0\n",
      "661     2  120.0  58.0    26  16.0   NaN  0.766  22.0      0\n",
      "770     2    NaN  58.0    26   NaN  28.4  0.766   NaN      0\n"
     ]
    },
    {
     "data": {
      "text/plain": "preg       3.845052\nplas     120.894531\npres      69.105469\nskin      20.536458\ntest      79.799479\nmass      31.992578\npedi       0.471876\nage       33.240885\nclass      0.348958\ndtype: float64"
     },
     "execution_count": 109,
     "metadata": {},
     "output_type": "execute_result"
    }
   ],
   "source": [
    "import numpy as np\n",
    "import pandas as pd\n",
    "from pandas import  read_csv\n",
    "\n",
    "headers=[\"preg\", 'plas', 'pres', 'skin', 'test', 'mass', 'pedi', 'age', 'class']\n",
    "\n",
    "my_data = read_csv(\"pima_indians_diabetes_2.csv\", names=headers)\n",
    "\n",
    "print(my_data.shape)\n",
    "\n",
    "empty_value_data = my_data[my_data.isna().any(axis=1)]\n",
    "print(empty_value_data)\n",
    "\n",
    "my_data = my_data.dropna()\n",
    "my_data.shape\n",
    "my_data.mean(skipna=False)"
   ]
  },
  {
   "cell_type": "code",
   "execution_count": 110,
   "metadata": {
    "pycharm": {
     "name": "#%%\n"
    }
   },
   "outputs": [
    {
     "name": "stdout",
     "output_type": "stream",
     "text": [
      "\n",
      "Initial dimensions\n",
      " (771, 9)\n",
      "new dimension\n",
      " (771, 9)\n"
     ]
    },
    {
     "data": {
      "text/plain": "0      3.837873\n1    120.863813\n2     69.077821\n3     20.557717\n4     79.530480\n5     31.994163\n6      0.473021\n7     33.197147\n8      0.347601\ndtype: float64"
     },
     "execution_count": 110,
     "metadata": {},
     "output_type": "execute_result"
    }
   ],
   "source": [
    "import numpy as np\n",
    "import pandas as pd\n",
    "from pandas import read_csv\n",
    "\n",
    "from sklearn.impute import SimpleImputer\n",
    "\n",
    "headers=[\"preg\", 'plas', 'pres', 'skin', 'test', 'mass', 'pedi', 'age', 'class']\n",
    "\n",
    "my_data = read_csv(\"pima_indians_diabetes_2.csv\", names=headers)\n",
    "\n",
    "print(\"\\nInitial dimensions\\n\", my_data.shape)\n",
    "\n",
    "imputer = SimpleImputer(strategy=\"most_frequent\")\n",
    "imputer.fit(my_data)\n",
    "my_data=imputer.transform(my_data)\n",
    "my_data = pd.DataFrame(my_data)\n",
    "\n",
    "print(\"new dimension\\n\", my_data.shape)\n",
    "my_data.mean(skipna=False)"
   ]
  },
  {
   "cell_type": "code",
   "execution_count": 122,
   "outputs": [
    {
     "name": "stdout",
     "output_type": "stream",
     "text": [
      "Dimensions\n",
      " (771, 9)\n"
     ]
    },
    {
     "data": {
      "text/plain": "     0      1     2     3      4     5      6     7    8\n0  6.0  148.0  72.0  35.0    0.0  33.6  0.627  50.0  1.0\n1  1.0   85.0  66.0  29.0    0.0  26.6  0.351  31.0  0.0\n2  8.0  183.0  64.0   0.0    0.0  23.3  0.672  32.0  1.0\n3  1.0   89.0  66.0  23.0   94.0  28.1  0.167  21.0  0.0\n4  0.0  137.0  40.0  35.0  168.0  43.1  2.288  33.0  1.0",
      "text/html": "<div>\n<style scoped>\n    .dataframe tbody tr th:only-of-type {\n        vertical-align: middle;\n    }\n\n    .dataframe tbody tr th {\n        vertical-align: top;\n    }\n\n    .dataframe thead th {\n        text-align: right;\n    }\n</style>\n<table border=\"1\" class=\"dataframe\">\n  <thead>\n    <tr style=\"text-align: right;\">\n      <th></th>\n      <th>0</th>\n      <th>1</th>\n      <th>2</th>\n      <th>3</th>\n      <th>4</th>\n      <th>5</th>\n      <th>6</th>\n      <th>7</th>\n      <th>8</th>\n    </tr>\n  </thead>\n  <tbody>\n    <tr>\n      <th>0</th>\n      <td>6.0</td>\n      <td>148.0</td>\n      <td>72.0</td>\n      <td>35.0</td>\n      <td>0.0</td>\n      <td>33.6</td>\n      <td>0.627</td>\n      <td>50.0</td>\n      <td>1.0</td>\n    </tr>\n    <tr>\n      <th>1</th>\n      <td>1.0</td>\n      <td>85.0</td>\n      <td>66.0</td>\n      <td>29.0</td>\n      <td>0.0</td>\n      <td>26.6</td>\n      <td>0.351</td>\n      <td>31.0</td>\n      <td>0.0</td>\n    </tr>\n    <tr>\n      <th>2</th>\n      <td>8.0</td>\n      <td>183.0</td>\n      <td>64.0</td>\n      <td>0.0</td>\n      <td>0.0</td>\n      <td>23.3</td>\n      <td>0.672</td>\n      <td>32.0</td>\n      <td>1.0</td>\n    </tr>\n    <tr>\n      <th>3</th>\n      <td>1.0</td>\n      <td>89.0</td>\n      <td>66.0</td>\n      <td>23.0</td>\n      <td>94.0</td>\n      <td>28.1</td>\n      <td>0.167</td>\n      <td>21.0</td>\n      <td>0.0</td>\n    </tr>\n    <tr>\n      <th>4</th>\n      <td>0.0</td>\n      <td>137.0</td>\n      <td>40.0</td>\n      <td>35.0</td>\n      <td>168.0</td>\n      <td>43.1</td>\n      <td>2.288</td>\n      <td>33.0</td>\n      <td>1.0</td>\n    </tr>\n  </tbody>\n</table>\n</div>"
     },
     "execution_count": 122,
     "metadata": {},
     "output_type": "execute_result"
    }
   ],
   "source": [
    "import numpy as np\n",
    "import pandas as pd\n",
    "from pandas import read_csv\n",
    "\n",
    "from sklearn.impute import SimpleImputer\n",
    "\n",
    "headers=[\"preg\", 'plas', 'pres', 'skin', 'test', 'mass', 'pedi', 'age', 'class']\n",
    "\n",
    "my_data = read_csv(\"pima_indians_diabetes_2.csv\", names=headers)\n",
    "\n",
    "imputer = SimpleImputer(strategy=\"mean\")\n",
    "imputer.fit(my_data)\n",
    "my_data=imputer.transform(my_data)\n",
    "my_data = pd.DataFrame(my_data)\n",
    "\n",
    "print(\"Dimensions\\n\",my_data.shape)\n",
    "my_data.mean(skipna=False)\n",
    "\n",
    "my_data.head()"
   ],
   "metadata": {
    "collapsed": false,
    "pycharm": {
     "name": "#%%\n"
    }
   }
  },
  {
   "cell_type": "code",
   "execution_count": 132,
   "outputs": [
    {
     "data": {
      "text/plain": "       birthpositionfather  birthpositionmother  averagebreakperday\ncount           517.000000           517.000000          496.000000\nmean              3.514507             2.777563            2.129032\nstd               2.621150             1.996809            2.226444\nmin               1.000000             1.000000            0.000000\n25%               1.000000             1.000000            1.000000\n50%               3.000000             2.000000            2.000000\n75%               5.000000             4.000000            3.000000\nmax              10.000000            10.000000           10.000000",
      "text/html": "<div>\n<style scoped>\n    .dataframe tbody tr th:only-of-type {\n        vertical-align: middle;\n    }\n\n    .dataframe tbody tr th {\n        vertical-align: top;\n    }\n\n    .dataframe thead th {\n        text-align: right;\n    }\n</style>\n<table border=\"1\" class=\"dataframe\">\n  <thead>\n    <tr style=\"text-align: right;\">\n      <th></th>\n      <th>birthpositionfather</th>\n      <th>birthpositionmother</th>\n      <th>averagebreakperday</th>\n    </tr>\n  </thead>\n  <tbody>\n    <tr>\n      <th>count</th>\n      <td>517.000000</td>\n      <td>517.000000</td>\n      <td>496.000000</td>\n    </tr>\n    <tr>\n      <th>mean</th>\n      <td>3.514507</td>\n      <td>2.777563</td>\n      <td>2.129032</td>\n    </tr>\n    <tr>\n      <th>std</th>\n      <td>2.621150</td>\n      <td>1.996809</td>\n      <td>2.226444</td>\n    </tr>\n    <tr>\n      <th>min</th>\n      <td>1.000000</td>\n      <td>1.000000</td>\n      <td>0.000000</td>\n    </tr>\n    <tr>\n      <th>25%</th>\n      <td>1.000000</td>\n      <td>1.000000</td>\n      <td>1.000000</td>\n    </tr>\n    <tr>\n      <th>50%</th>\n      <td>3.000000</td>\n      <td>2.000000</td>\n      <td>2.000000</td>\n    </tr>\n    <tr>\n      <th>75%</th>\n      <td>5.000000</td>\n      <td>4.000000</td>\n      <td>3.000000</td>\n    </tr>\n    <tr>\n      <th>max</th>\n      <td>10.000000</td>\n      <td>10.000000</td>\n      <td>10.000000</td>\n    </tr>\n  </tbody>\n</table>\n</div>"
     },
     "execution_count": 132,
     "metadata": {},
     "output_type": "execute_result"
    }
   ],
   "source": [
    "import numpy as np\n",
    "import pandas as pd\n",
    "from pandas import read_csv\n",
    "from sklearn.impute import SimpleImputer\n",
    "\n",
    "headers=[\"preg\", 'plas', 'pres', 'skin', 'test', 'mass', 'pedi', 'age', 'class']\n",
    "\n",
    "my_data = read_csv(\"pima_indians_diabetes_2.csv\", names=headers)\n",
    "imputer = SimpleImputer(strategy=\"mean\")\n",
    "imputer.fit(my_data)\n",
    "my_data=imputer.transform(my_data)\n",
    "my_data = pd.DataFrame(my_data)\n",
    "\n",
    "my_data.describe()"
   ],
   "metadata": {
    "collapsed": false,
    "pycharm": {
     "name": "#%%\n"
    }
   }
  },
  {
   "cell_type": "code",
   "execution_count": 128,
   "outputs": [
    {
     "name": "stdout",
     "output_type": "stream",
     "text": [
      "(543, 9)\n",
      "                                                                                                                                                                                                                                                                                                                                                                                                                                                                                                                                                                                                                                                                                                                                                                                                                                                                               preg  \\\n",
      "Timestamp                    dob        gender countryofresidence birthpositionfather birthpositionmother ethnicity                                   highesteducation      occupation                                       averagedayworkinghours averagebreakperday averageyearholiday maritalstatus homeresidentialstatus hometype            religion childhoodliving   currentliving psychoactivesubstance ageofpsychoactivesubstance mentalhealthhistory yearofdiagnosis mentalsymptoms mentalhealthtype mentalhealthtreatment medications everadmittedformentalhealth  admissionage treatmentcarepathway chronicillness fatherdeadoralive deathcausefather    fatherdeathdate fatherageatdeath dobfather  farthermaritalstatus motherdeadoralive deathcausemother motherdeathdate motherdeathage dobmother  mothermaritalstatus familybackground  familymentalhealthhistory   \n",
      "2020/04/12 10:55:12 PM GMT+1 NaN        NaN    NaN                NaN                 NaN                 NaN                                         NaN                   NaN                                              NaN                    NaN                NaN                NaN           NaN                   NaN                 NaN      NaN               NaN           NaN                   NaN                        NaN                 NaN             NaN            NaN              NaN                   NaN         NaN                         NaN           NaN                  NaN            NaN               NaN                 NaN             NaN              NaN        NaN                  NaN               NaN              NaN             NaN            NaN        NaN                 NaN                                     NaN   \n",
      "2020/04/12 11:03:39 PM GMT+1 27/03/1986 Male   NaN                2                   2                   Black / African / Caribbean / Black British Certificate           Government and Public Administration             NaN                    NaN                NaN                married       Other                 NaN                 Other    With mother       With family   None                  0                          No                  NaN             NaN            NaN              NaN                   NaN         NaN                         NaN           NaN                  NaN            Alive             NaN                 NaN             NaN              01/01/1900 Married              Alive             NaN              NaN             NaN            55         Married             Monogamy                                Non   \n",
      "2020/04/13 8:53:19 AM GMT+1  20/06/1980 Male   NaN                1                   1                   Black / African / Caribbean / Black British Masters or equivalent Education and Training                           NaN                    NaN                NaN                married       Privately owned       NaN                 Islam    Both parents      With family   None                  0                          No                  NaN             NaN            NaN              NaN                   NaN         NaN                         NaN           NaN                  NaN            Alive             NaN                 NaN             NaN              04/04/1952 Married              Alive             NaN              NaN             NaN            62         Married             Monogamy                               None   \n",
      "2020/04/25 10:12:39 PM GMT+1 26/11/1986 Male   NaN                4                   4                   Black / African / Caribbean / Black British Masters or equivalent Science, Technology, Engineering and Mathematics 8hrs                   1                  1 to 10 days       married       Owner occupied        Semi detached house Islam    with both parents with family   None                  NaN                        No                  NaN             NaN            NaN              NaN                   NaN         NaN                         NaN           NaN                  NaN            Dead              Heart complications 23/05/2018      61 to 75         NaN        NaN                  Alive             NaN              NaN             NaN            10/05/1956 Widower             Monogamy                               None   \n",
      "\n",
      "                                                                                                                                                                                                                                                                                                                                                                                                                                                                                                                                                                                                                                                                                                                                                                                                                                                                    plas  \\\n",
      "Timestamp                    dob        gender countryofresidence birthpositionfather birthpositionmother ethnicity                                   highesteducation      occupation                                       averagedayworkinghours averagebreakperday averageyearholiday maritalstatus homeresidentialstatus hometype            religion childhoodliving   currentliving psychoactivesubstance ageofpsychoactivesubstance mentalhealthhistory yearofdiagnosis mentalsymptoms mentalhealthtype mentalhealthtreatment medications everadmittedformentalhealth  admissionage treatmentcarepathway chronicillness fatherdeadoralive deathcausefather    fatherdeathdate fatherageatdeath dobfather  farthermaritalstatus motherdeadoralive deathcausemother motherdeathdate motherdeathage dobmother  mothermaritalstatus familybackground  sucideinfamily   \n",
      "2020/04/12 10:55:12 PM GMT+1 NaN        NaN    NaN                NaN                 NaN                 NaN                                         NaN                   NaN                                              NaN                    NaN                NaN                NaN           NaN                   NaN                 NaN      NaN               NaN           NaN                   NaN                        NaN                 NaN             NaN            NaN              NaN                   NaN         NaN                         NaN           NaN                  NaN            NaN               NaN                 NaN             NaN              NaN        NaN                  NaN               NaN              NaN             NaN            NaN        NaN                 NaN                          NaN   \n",
      "2020/04/12 11:03:39 PM GMT+1 27/03/1986 Male   NaN                2                   2                   Black / African / Caribbean / Black British Certificate           Government and Public Administration             NaN                    NaN                NaN                married       Other                 NaN                 Other    With mother       With family   None                  0                          No                  NaN             NaN            NaN              NaN                   NaN         NaN                         NaN           NaN                  NaN            Alive             NaN                 NaN             NaN              01/01/1900 Married              Alive             NaN              NaN             NaN            55         Married             Monogamy          Not applicable   \n",
      "2020/04/13 8:53:19 AM GMT+1  20/06/1980 Male   NaN                1                   1                   Black / African / Caribbean / Black British Masters or equivalent Education and Training                           NaN                    NaN                NaN                married       Privately owned       NaN                 Islam    Both parents      With family   None                  0                          No                  NaN             NaN            NaN              NaN                   NaN         NaN                         NaN           NaN                  NaN            Alive             NaN                 NaN             NaN              04/04/1952 Married              Alive             NaN              NaN             NaN            62         Married             Monogamy          Not applicable   \n",
      "2020/04/25 10:12:39 PM GMT+1 26/11/1986 Male   NaN                4                   4                   Black / African / Caribbean / Black British Masters or equivalent Science, Technology, Engineering and Mathematics 8hrs                   1                  1 to 10 days       married       Owner occupied        Semi detached house Islam    with both parents with family   None                  NaN                        No                  NaN             NaN            NaN              NaN                   NaN         NaN                         NaN           NaN                  NaN            Dead              Heart complications 23/05/2018      61 to 75         NaN        NaN                  Alive             NaN              NaN             NaN            10/05/1956 Widower             Monogamy          Not applicable   \n",
      "\n",
      "                                                                                                                                                                                                                                                                                                                                                                                                                                                                                                                                                                                                                                                                                                                                                                                                                                                                     pres  \\\n",
      "Timestamp                    dob        gender countryofresidence birthpositionfather birthpositionmother ethnicity                                   highesteducation      occupation                                       averagedayworkinghours averagebreakperday averageyearholiday maritalstatus homeresidentialstatus hometype            religion childhoodliving   currentliving psychoactivesubstance ageofpsychoactivesubstance mentalhealthhistory yearofdiagnosis mentalsymptoms mentalhealthtype mentalhealthtreatment medications everadmittedformentalhealth  admissionage treatmentcarepathway chronicillness fatherdeadoralive deathcausefather    fatherdeathdate fatherageatdeath dobfather  farthermaritalstatus motherdeadoralive deathcausemother motherdeathdate motherdeathage dobmother  mothermaritalstatus familybackground  householdincome   \n",
      "2020/04/12 10:55:12 PM GMT+1 NaN        NaN    NaN                NaN                 NaN                 NaN                                         NaN                   NaN                                              NaN                    NaN                NaN                NaN           NaN                   NaN                 NaN      NaN               NaN           NaN                   NaN                        NaN                 NaN             NaN            NaN              NaN                   NaN         NaN                         NaN           NaN                  NaN            NaN               NaN                 NaN             NaN              NaN        NaN                  NaN               NaN              NaN             NaN            NaN        NaN                 NaN                           NaN   \n",
      "2020/04/12 11:03:39 PM GMT+1 27/03/1986 Male   NaN                2                   2                   Black / African / Caribbean / Black British Certificate           Government and Public Administration             NaN                    NaN                NaN                married       Other                 NaN                 Other    With mother       With family   None                  0                          No                  NaN             NaN            NaN              NaN                   NaN         NaN                         NaN           NaN                  NaN            Alive             NaN                 NaN             NaN              01/01/1900 Married              Alive             NaN              NaN             NaN            55         Married             Monogamy                      NaN   \n",
      "2020/04/13 8:53:19 AM GMT+1  20/06/1980 Male   NaN                1                   1                   Black / African / Caribbean / Black British Masters or equivalent Education and Training                           NaN                    NaN                NaN                married       Privately owned       NaN                 Islam    Both parents      With family   None                  0                          No                  NaN             NaN            NaN              NaN                   NaN         NaN                         NaN           NaN                  NaN            Alive             NaN                 NaN             NaN              04/04/1952 Married              Alive             NaN              NaN             NaN            62         Married             Monogamy                      NaN   \n",
      "2020/04/25 10:12:39 PM GMT+1 26/11/1986 Male   NaN                4                   4                   Black / African / Caribbean / Black British Masters or equivalent Science, Technology, Engineering and Mathematics 8hrs                   1                  1 to 10 days       married       Owner occupied        Semi detached house Islam    with both parents with family   None                  NaN                        No                  NaN             NaN            NaN              NaN                   NaN         NaN                         NaN           NaN                  NaN            Dead              Heart complications 23/05/2018      61 to 75         NaN        NaN                  Alive             NaN              NaN             NaN            10/05/1956 Widower             Monogamy                  Average   \n",
      "\n",
      "                                                                                                                                                                                                                                                                                                                                                                                                                                                                                                                                                                                                                                                                                                                                                                                                                                                                                                       skin  \\\n",
      "Timestamp                    dob        gender countryofresidence birthpositionfather birthpositionmother ethnicity                                   highesteducation      occupation                                       averagedayworkinghours averagebreakperday averageyearholiday maritalstatus homeresidentialstatus hometype            religion childhoodliving   currentliving psychoactivesubstance ageofpsychoactivesubstance mentalhealthhistory yearofdiagnosis mentalsymptoms mentalhealthtype mentalhealthtreatment medications everadmittedformentalhealth  admissionage treatmentcarepathway chronicillness fatherdeadoralive deathcausefather    fatherdeathdate fatherageatdeath dobfather  farthermaritalstatus motherdeadoralive deathcausemother motherdeathdate motherdeathage dobmother  mothermaritalstatus familybackground                                  last3weeksfeeling   \n",
      "2020/04/12 10:55:12 PM GMT+1 NaN        NaN    NaN                NaN                 NaN                 NaN                                         NaN                   NaN                                              NaN                    NaN                NaN                NaN           NaN                   NaN                 NaN      NaN               NaN           NaN                   NaN                        NaN                 NaN             NaN            NaN              NaN                   NaN         NaN                         NaN           NaN                  NaN            NaN               NaN                 NaN             NaN              NaN        NaN                  NaN               NaN              NaN             NaN            NaN        NaN                 NaN                                                             NaN   \n",
      "2020/04/12 11:03:39 PM GMT+1 27/03/1986 Male   NaN                2                   2                   Black / African / Caribbean / Black British Certificate           Government and Public Administration             NaN                    NaN                NaN                married       Other                 NaN                 Other    With mother       With family   None                  0                          No                  NaN             NaN            NaN              NaN                   NaN         NaN                         NaN           NaN                  NaN            Alive             NaN                 NaN             NaN              01/01/1900 Married              Alive             NaN              NaN             NaN            55         Married             Monogamy                                                        NaN   \n",
      "2020/04/13 8:53:19 AM GMT+1  20/06/1980 Male   NaN                1                   1                   Black / African / Caribbean / Black British Masters or equivalent Education and Training                           NaN                    NaN                NaN                married       Privately owned       NaN                 Islam    Both parents      With family   None                  0                          No                  NaN             NaN            NaN              NaN                   NaN         NaN                         NaN           NaN                  NaN            Alive             NaN                 NaN             NaN              04/04/1952 Married              Alive             NaN              NaN             NaN            62         Married             Monogamy                                                        NaN   \n",
      "2020/04/25 10:12:39 PM GMT+1 26/11/1986 Male   NaN                4                   4                   Black / African / Caribbean / Black British Masters or equivalent Science, Technology, Engineering and Mathematics 8hrs                   1                  1 to 10 days       married       Owner occupied        Semi detached house Islam    with both parents with family   None                  NaN                        No                  NaN             NaN            NaN              NaN                   NaN         NaN                         NaN           NaN                  NaN            Dead              Heart complications 23/05/2018      61 to 75         NaN        NaN                  Alive             NaN              NaN             NaN            10/05/1956 Widower             Monogamy          significant tiredness, low energy or problems ...   \n",
      "\n",
      "                                                                                                                                                                                                                                                                                                                                                                                                                                                                                                                                                                                                                                                                                                                                                                                                                                                                      test  \\\n",
      "Timestamp                    dob        gender countryofresidence birthpositionfather birthpositionmother ethnicity                                   highesteducation      occupation                                       averagedayworkinghours averagebreakperday averageyearholiday maritalstatus homeresidentialstatus hometype            religion childhoodliving   currentliving psychoactivesubstance ageofpsychoactivesubstance mentalhealthhistory yearofdiagnosis mentalsymptoms mentalhealthtype mentalhealthtreatment medications everadmittedformentalhealth  admissionage treatmentcarepathway chronicillness fatherdeadoralive deathcausefather    fatherdeathdate fatherageatdeath dobfather  farthermaritalstatus motherdeadoralive deathcausemother motherdeathdate motherdeathage dobmother  mothermaritalstatus familybackground  chronicillnesses   \n",
      "2020/04/12 10:55:12 PM GMT+1 NaN        NaN    NaN                NaN                 NaN                 NaN                                         NaN                   NaN                                              NaN                    NaN                NaN                NaN           NaN                   NaN                 NaN      NaN               NaN           NaN                   NaN                        NaN                 NaN             NaN            NaN              NaN                   NaN         NaN                         NaN           NaN                  NaN            NaN               NaN                 NaN             NaN              NaN        NaN                  NaN               NaN              NaN             NaN            NaN        NaN                 NaN                            NaN   \n",
      "2020/04/12 11:03:39 PM GMT+1 27/03/1986 Male   NaN                2                   2                   Black / African / Caribbean / Black British Certificate           Government and Public Administration             NaN                    NaN                NaN                married       Other                 NaN                 Other    With mother       With family   None                  0                          No                  NaN             NaN            NaN              NaN                   NaN         NaN                         NaN           NaN                  NaN            Alive             NaN                 NaN             NaN              01/01/1900 Married              Alive             NaN              NaN             NaN            55         Married             Monogamy                       NaN   \n",
      "2020/04/13 8:53:19 AM GMT+1  20/06/1980 Male   NaN                1                   1                   Black / African / Caribbean / Black British Masters or equivalent Education and Training                           NaN                    NaN                NaN                married       Privately owned       NaN                 Islam    Both parents      With family   None                  0                          No                  NaN             NaN            NaN              NaN                   NaN         NaN                         NaN           NaN                  NaN            Alive             NaN                 NaN             NaN              04/04/1952 Married              Alive             NaN              NaN             NaN            62         Married             Monogamy                       NaN   \n",
      "2020/04/25 10:12:39 PM GMT+1 26/11/1986 Male   NaN                4                   4                   Black / African / Caribbean / Black British Masters or equivalent Science, Technology, Engineering and Mathematics 8hrs                   1                  1 to 10 days       married       Owner occupied        Semi detached house Islam    with both parents with family   None                  NaN                        No                  NaN             NaN            NaN              NaN                   NaN         NaN                         NaN           NaN                  NaN            Dead              Heart complications 23/05/2018      61 to 75         NaN        NaN                  Alive             NaN              NaN             NaN            10/05/1956 Widower             Monogamy                      None   \n",
      "\n",
      "                                                                                                                                                                                                                                                                                                                                                                                                                                                                                                                                                                                                                                                                                                                                                                                                                                                                    mass  \\\n",
      "Timestamp                    dob        gender countryofresidence birthpositionfather birthpositionmother ethnicity                                   highesteducation      occupation                                       averagedayworkinghours averagebreakperday averageyearholiday maritalstatus homeresidentialstatus hometype            religion childhoodliving   currentliving psychoactivesubstance ageofpsychoactivesubstance mentalhealthhistory yearofdiagnosis mentalsymptoms mentalhealthtype mentalhealthtreatment medications everadmittedformentalhealth  admissionage treatmentcarepathway chronicillness fatherdeadoralive deathcausefather    fatherdeathdate fatherageatdeath dobfather  farthermaritalstatus motherdeadoralive deathcausemother motherdeathdate motherdeathage dobmother  mothermaritalstatus familybackground  forensicissues   \n",
      "2020/04/12 10:55:12 PM GMT+1 NaN        NaN    NaN                NaN                 NaN                 NaN                                         NaN                   NaN                                              NaN                    NaN                NaN                NaN           NaN                   NaN                 NaN      NaN               NaN           NaN                   NaN                        NaN                 NaN             NaN            NaN              NaN                   NaN         NaN                         NaN           NaN                  NaN            NaN               NaN                 NaN             NaN              NaN        NaN                  NaN               NaN              NaN             NaN            NaN        NaN                 NaN                          NaN   \n",
      "2020/04/12 11:03:39 PM GMT+1 27/03/1986 Male   NaN                2                   2                   Black / African / Caribbean / Black British Certificate           Government and Public Administration             NaN                    NaN                NaN                married       Other                 NaN                 Other    With mother       With family   None                  0                          No                  NaN             NaN            NaN              NaN                   NaN         NaN                         NaN           NaN                  NaN            Alive             NaN                 NaN             NaN              01/01/1900 Married              Alive             NaN              NaN             NaN            55         Married             Monogamy                    None   \n",
      "2020/04/13 8:53:19 AM GMT+1  20/06/1980 Male   NaN                1                   1                   Black / African / Caribbean / Black British Masters or equivalent Education and Training                           NaN                    NaN                NaN                married       Privately owned       NaN                 Islam    Both parents      With family   None                  0                          No                  NaN             NaN            NaN              NaN                   NaN         NaN                         NaN           NaN                  NaN            Alive             NaN                 NaN             NaN              04/04/1952 Married              Alive             NaN              NaN             NaN            62         Married             Monogamy                    None   \n",
      "2020/04/25 10:12:39 PM GMT+1 26/11/1986 Male   NaN                4                   4                   Black / African / Caribbean / Black British Masters or equivalent Science, Technology, Engineering and Mathematics 8hrs                   1                  1 to 10 days       married       Owner occupied        Semi detached house Islam    with both parents with family   None                  NaN                        No                  NaN             NaN            NaN              NaN                   NaN         NaN                         NaN           NaN                  NaN            Dead              Heart complications 23/05/2018      61 to 75         NaN        NaN                  Alive             NaN              NaN             NaN            10/05/1956 Widower             Monogamy                    None   \n",
      "\n",
      "                                                                                                                                                                                                                                                                                                                                                                                                                                                                                                                                                                                                                                                                                                                                                                                                                                                                     pedi  \\\n",
      "Timestamp                    dob        gender countryofresidence birthpositionfather birthpositionmother ethnicity                                   highesteducation      occupation                                       averagedayworkinghours averagebreakperday averageyearholiday maritalstatus homeresidentialstatus hometype            religion childhoodliving   currentliving psychoactivesubstance ageofpsychoactivesubstance mentalhealthhistory yearofdiagnosis mentalsymptoms mentalhealthtype mentalhealthtreatment medications everadmittedformentalhealth  admissionage treatmentcarepathway chronicillness fatherdeadoralive deathcausefather    fatherdeathdate fatherageatdeath dobfather  farthermaritalstatus motherdeadoralive deathcausemother motherdeathdate motherdeathage dobmother  mothermaritalstatus familybackground  homicidehistory   \n",
      "2020/04/12 10:55:12 PM GMT+1 NaN        NaN    NaN                NaN                 NaN                 NaN                                         NaN                   NaN                                              NaN                    NaN                NaN                NaN           NaN                   NaN                 NaN      NaN               NaN           NaN                   NaN                        NaN                 NaN             NaN            NaN              NaN                   NaN         NaN                         NaN           NaN                  NaN            NaN               NaN                 NaN             NaN              NaN        NaN                  NaN               NaN              NaN             NaN            NaN        NaN                 NaN                           NaN   \n",
      "2020/04/12 11:03:39 PM GMT+1 27/03/1986 Male   NaN                2                   2                   Black / African / Caribbean / Black British Certificate           Government and Public Administration             NaN                    NaN                NaN                married       Other                 NaN                 Other    With mother       With family   None                  0                          No                  NaN             NaN            NaN              NaN                   NaN         NaN                         NaN           NaN                  NaN            Alive             NaN                 NaN             NaN              01/01/1900 Married              Alive             NaN              NaN             NaN            55         Married             Monogamy                     None   \n",
      "2020/04/13 8:53:19 AM GMT+1  20/06/1980 Male   NaN                1                   1                   Black / African / Caribbean / Black British Masters or equivalent Education and Training                           NaN                    NaN                NaN                married       Privately owned       NaN                 Islam    Both parents      With family   None                  0                          No                  NaN             NaN            NaN              NaN                   NaN         NaN                         NaN           NaN                  NaN            Alive             NaN                 NaN             NaN              04/04/1952 Married              Alive             NaN              NaN             NaN            62         Married             Monogamy                     None   \n",
      "2020/04/25 10:12:39 PM GMT+1 26/11/1986 Male   NaN                4                   4                   Black / African / Caribbean / Black British Masters or equivalent Science, Technology, Engineering and Mathematics 8hrs                   1                  1 to 10 days       married       Owner occupied        Semi detached house Islam    with both parents with family   None                  NaN                        No                  NaN             NaN            NaN              NaN                   NaN         NaN                         NaN           NaN                  NaN            Dead              Heart complications 23/05/2018      61 to 75         NaN        NaN                  Alive             NaN              NaN             NaN            10/05/1956 Widower             Monogamy                     None   \n",
      "\n",
      "                                                                                                                                                                                                                                                                                                                                                                                                                                                                                                                                                                                                                                                                                                                                                                                                                                                                                                age  \\\n",
      "Timestamp                    dob        gender countryofresidence birthpositionfather birthpositionmother ethnicity                                   highesteducation      occupation                                       averagedayworkinghours averagebreakperday averageyearholiday maritalstatus homeresidentialstatus hometype            religion childhoodliving   currentliving psychoactivesubstance ageofpsychoactivesubstance mentalhealthhistory yearofdiagnosis mentalsymptoms mentalhealthtype mentalhealthtreatment medications everadmittedformentalhealth  admissionage treatmentcarepathway chronicillness fatherdeadoralive deathcausefather    fatherdeathdate fatherageatdeath dobfather  farthermaritalstatus motherdeadoralive deathcausemother motherdeathdate motherdeathage dobmother  mothermaritalstatus familybackground                           socialmediauasge   \n",
      "2020/04/12 10:55:12 PM GMT+1 NaN        NaN    NaN                NaN                 NaN                 NaN                                         NaN                   NaN                                              NaN                    NaN                NaN                NaN           NaN                   NaN                 NaN      NaN               NaN           NaN                   NaN                        NaN                 NaN             NaN            NaN              NaN                   NaN         NaN                         NaN           NaN                  NaN            NaN               NaN                 NaN             NaN              NaN        NaN                  NaN               NaN              NaN             NaN            NaN        NaN                 NaN                                                     NaN   \n",
      "2020/04/12 11:03:39 PM GMT+1 27/03/1986 Male   NaN                2                   2                   Black / African / Caribbean / Black British Certificate           Government and Public Administration             NaN                    NaN                NaN                married       Other                 NaN                 Other    With mother       With family   None                  0                          No                  NaN             NaN            NaN              NaN                   NaN         NaN                         NaN           NaN                  NaN            Alive             NaN                 NaN             NaN              01/01/1900 Married              Alive             NaN              NaN             NaN            55         Married             Monogamy                           Facebook;YouTube;WhatApp   \n",
      "2020/04/13 8:53:19 AM GMT+1  20/06/1980 Male   NaN                1                   1                   Black / African / Caribbean / Black British Masters or equivalent Education and Training                           NaN                    NaN                NaN                married       Privately owned       NaN                 Islam    Both parents      With family   None                  0                          No                  NaN             NaN            NaN              NaN                   NaN         NaN                         NaN           NaN                  NaN            Alive             NaN                 NaN             NaN              04/04/1952 Married              Alive             NaN              NaN             NaN            62         Married             Monogamy                                   Facebook;WhatApp   \n",
      "2020/04/25 10:12:39 PM GMT+1 26/11/1986 Male   NaN                4                   4                   Black / African / Caribbean / Black British Masters or equivalent Science, Technology, Engineering and Mathematics 8hrs                   1                  1 to 10 days       married       Owner occupied        Semi detached house Islam    with both parents with family   None                  NaN                        No                  NaN             NaN            NaN              NaN                   NaN         NaN                         NaN           NaN                  NaN            Dead              Heart complications 23/05/2018      61 to 75         NaN        NaN                  Alive             NaN              NaN             NaN            10/05/1956 Widower             Monogamy          Facebook;Twitter;YouTube;WhatApp;LinkedIn   \n",
      "\n",
      "                                                                                                                                                                                                                                                                                                                                                                                                                                                                                                                                                                                                                                                                                                                                                                                                                                                                         class  \n",
      "Timestamp                    dob        gender countryofresidence birthpositionfather birthpositionmother ethnicity                                   highesteducation      occupation                                       averagedayworkinghours averagebreakperday averageyearholiday maritalstatus homeresidentialstatus hometype            religion childhoodliving   currentliving psychoactivesubstance ageofpsychoactivesubstance mentalhealthhistory yearofdiagnosis mentalsymptoms mentalhealthtype mentalhealthtreatment medications everadmittedformentalhealth  admissionage treatmentcarepathway chronicillness fatherdeadoralive deathcausefather    fatherdeathdate fatherageatdeath dobfather  farthermaritalstatus motherdeadoralive deathcausemother motherdeathdate motherdeathage dobmother  mothermaritalstatus familybackground  socialmediauseperday  \n",
      "2020/04/12 10:55:12 PM GMT+1 NaN        NaN    NaN                NaN                 NaN                 NaN                                         NaN                   NaN                                              NaN                    NaN                NaN                NaN           NaN                   NaN                 NaN      NaN               NaN           NaN                   NaN                        NaN                 NaN             NaN            NaN              NaN                   NaN         NaN                         NaN           NaN                  NaN            NaN               NaN                 NaN             NaN              NaN        NaN                  NaN               NaN              NaN             NaN            NaN        NaN                 NaN                                NaN  \n",
      "2020/04/12 11:03:39 PM GMT+1 27/03/1986 Male   NaN                2                   2                   Black / African / Caribbean / Black British Certificate           Government and Public Administration             NaN                    NaN                NaN                married       Other                 NaN                 Other    With mother       With family   None                  0                          No                  NaN             NaN            NaN              NaN                   NaN         NaN                         NaN           NaN                  NaN            Alive             NaN                 NaN             NaN              01/01/1900 Married              Alive             NaN              NaN             NaN            55         Married             Monogamy                 1 hr to 2 hrs  \n",
      "2020/04/13 8:53:19 AM GMT+1  20/06/1980 Male   NaN                1                   1                   Black / African / Caribbean / Black British Masters or equivalent Education and Training                           NaN                    NaN                NaN                married       Privately owned       NaN                 Islam    Both parents      With family   None                  0                          No                  NaN             NaN            NaN              NaN                   NaN         NaN                         NaN           NaN                  NaN            Alive             NaN                 NaN             NaN              04/04/1952 Married              Alive             NaN              NaN             NaN            62         Married             Monogamy                3 hrs to 5 hrs  \n",
      "2020/04/25 10:12:39 PM GMT+1 26/11/1986 Male   NaN                4                   4                   Black / African / Caribbean / Black British Masters or equivalent Science, Technology, Engineering and Mathematics 8hrs                   1                  1 to 10 days       married       Owner occupied        Semi detached house Islam    with both parents with family   None                  NaN                        No                  NaN             NaN            NaN              NaN                   NaN         NaN                         NaN           NaN                  NaN            Dead              Heart complications 23/05/2018      61 to 75         NaN        NaN                  Alive             NaN              NaN             NaN            10/05/1956 Widower             Monogamy                3 hrs to 5 hrs  \n",
      "                                                                                                                                                                                                                                                                                                                                                                                                                                                                                                                                                                                                                                                                                                                                                                                                                                                                                  preg  \\\n",
      "Timestamp                    dob        gender countryofresidence birthpositionfather birthpositionmother ethnicity                                   highesteducation      occupation                                       averagedayworkinghours averagebreakperday averageyearholiday maritalstatus homeresidentialstatus hometype            religion childhoodliving   currentliving psychoactivesubstance    ageofpsychoactivesubstance mentalhealthhistory yearofdiagnosis mentalsymptoms mentalhealthtype mentalhealthtreatment medications everadmittedformentalhealth  admissionage treatmentcarepathway chronicillness fatherdeadoralive deathcausefather    fatherdeathdate fatherageatdeath dobfather  farthermaritalstatus motherdeadoralive deathcausemother motherdeathdate motherdeathage dobmother  mothermaritalstatus familybackground  familymentalhealthhistory   \n",
      "2020/04/25 10:12:39 PM GMT+1 26/11/1986 Male   NaN                4                   4                   Black / African / Caribbean / Black British Masters or equivalent Science, Technology, Engineering and Mathematics 8hrs                   1                  1 to 10 days       married       Owner occupied        Semi detached house Islam    with both parents with family   None                     NaN                        No                  NaN             NaN            NaN              NaN                   NaN         NaN                         NaN           NaN                  NaN            Dead              Heart complications 23/05/2018      61 to 75         NaN        NaN                  Alive             NaN              NaN             NaN            10/05/1956 Widower             Monogamy                               None   \n",
      "2020/04/25 11:18:57 PM GMT+1 06/03/1988 Male   Gambia             3                   2                   Black / African / Caribbean / Black British Degree or equivalent  Information Technology                           9hrs                   1                  1 to 10 days       married       Owner occupied        Flats               Islam    with both parents with family   None                     NaN                        No                  NaN             NaN            NaN              NaN                   NaN         NaN                         NaN           NaN                  NaN            Alive             NaN                 NaN             NaN              03/05/1943 Married              Alive             NaN              NaN             NaN            25/07/1965 Married             Polygamy                   Eating disorders   \n",
      "2020/04/25 11:19:22 PM GMT+1 18/12/1992 Female England            2                   2                   Black / African / Caribbean / Black British Certificate           Government and Public Administration             12hrs                  4                  21 to 30 days      never married Owner occupied        Semi detached house Islam    with both parents with family   None                     NaN                        No                  NaN             NaN            NaN              NaN                   NaN         NaN                         NaN           NaN                  NaN            Alive             NaN                 NaN             NaN              08/08/1964 Married              Alive             NaN              NaN             NaN            09/02/1964 Married             Monogamy                               None   \n",
      "2020/04/25 11:24:47 PM GMT+1 02/09/2000 Male   Uk                 1                   3                   Black / African / Caribbean / Black British Degree or equivalent  Science, Technology, Engineering and Mathematics 9hrs                   2                  11 to 20 days      married       Housing association   Flats               Islam    with mother       with family   Alcohol;Tobacco;Cannabis Adolescence (Ages 12-20)   No                  NaN             NaN            NaN              NaN                   NaN         NaN                         NaN           NaN                  NaN            Alive             NaN                 NaN             NaN              15/06/1963 Married              Alive             NaN              NaN             NaN            08/02/1968 Single              Polygamy                               None   \n",
      "\n",
      "                                                                                                                                                                                                                                                                                                                                                                                                                                                                                                                                                                                                                                                                                                                                                                                                                                                                       plas  \\\n",
      "Timestamp                    dob        gender countryofresidence birthpositionfather birthpositionmother ethnicity                                   highesteducation      occupation                                       averagedayworkinghours averagebreakperday averageyearholiday maritalstatus homeresidentialstatus hometype            religion childhoodliving   currentliving psychoactivesubstance    ageofpsychoactivesubstance mentalhealthhistory yearofdiagnosis mentalsymptoms mentalhealthtype mentalhealthtreatment medications everadmittedformentalhealth  admissionage treatmentcarepathway chronicillness fatherdeadoralive deathcausefather    fatherdeathdate fatherageatdeath dobfather  farthermaritalstatus motherdeadoralive deathcausemother motherdeathdate motherdeathage dobmother  mothermaritalstatus familybackground  sucideinfamily   \n",
      "2020/04/25 10:12:39 PM GMT+1 26/11/1986 Male   NaN                4                   4                   Black / African / Caribbean / Black British Masters or equivalent Science, Technology, Engineering and Mathematics 8hrs                   1                  1 to 10 days       married       Owner occupied        Semi detached house Islam    with both parents with family   None                     NaN                        No                  NaN             NaN            NaN              NaN                   NaN         NaN                         NaN           NaN                  NaN            Dead              Heart complications 23/05/2018      61 to 75         NaN        NaN                  Alive             NaN              NaN             NaN            10/05/1956 Widower             Monogamy          Not applicable   \n",
      "2020/04/25 11:18:57 PM GMT+1 06/03/1988 Male   Gambia             3                   2                   Black / African / Caribbean / Black British Degree or equivalent  Information Technology                           9hrs                   1                  1 to 10 days       married       Owner occupied        Flats               Islam    with both parents with family   None                     NaN                        No                  NaN             NaN            NaN              NaN                   NaN         NaN                         NaN           NaN                  NaN            Alive             NaN                 NaN             NaN              03/05/1943 Married              Alive             NaN              NaN             NaN            25/07/1965 Married             Polygamy          Not applicable   \n",
      "2020/04/25 11:19:22 PM GMT+1 18/12/1992 Female England            2                   2                   Black / African / Caribbean / Black British Certificate           Government and Public Administration             12hrs                  4                  21 to 30 days      never married Owner occupied        Semi detached house Islam    with both parents with family   None                     NaN                        No                  NaN             NaN            NaN              NaN                   NaN         NaN                         NaN           NaN                  NaN            Alive             NaN                 NaN             NaN              08/08/1964 Married              Alive             NaN              NaN             NaN            09/02/1964 Married             Monogamy          Not applicable   \n",
      "2020/04/25 11:24:47 PM GMT+1 02/09/2000 Male   Uk                 1                   3                   Black / African / Caribbean / Black British Degree or equivalent  Science, Technology, Engineering and Mathematics 9hrs                   2                  11 to 20 days      married       Housing association   Flats               Islam    with mother       with family   Alcohol;Tobacco;Cannabis Adolescence (Ages 12-20)   No                  NaN             NaN            NaN              NaN                   NaN         NaN                         NaN           NaN                  NaN            Alive             NaN                 NaN             NaN              15/06/1963 Married              Alive             NaN              NaN             NaN            08/02/1968 Single              Polygamy          Not applicable   \n",
      "\n",
      "                                                                                                                                                                                                                                                                                                                                                                                                                                                                                                                                                                                                                                                                                                                                                                                                                                                                        pres  \\\n",
      "Timestamp                    dob        gender countryofresidence birthpositionfather birthpositionmother ethnicity                                   highesteducation      occupation                                       averagedayworkinghours averagebreakperday averageyearholiday maritalstatus homeresidentialstatus hometype            religion childhoodliving   currentliving psychoactivesubstance    ageofpsychoactivesubstance mentalhealthhistory yearofdiagnosis mentalsymptoms mentalhealthtype mentalhealthtreatment medications everadmittedformentalhealth  admissionage treatmentcarepathway chronicillness fatherdeadoralive deathcausefather    fatherdeathdate fatherageatdeath dobfather  farthermaritalstatus motherdeadoralive deathcausemother motherdeathdate motherdeathage dobmother  mothermaritalstatus familybackground  householdincome   \n",
      "2020/04/25 10:12:39 PM GMT+1 26/11/1986 Male   NaN                4                   4                   Black / African / Caribbean / Black British Masters or equivalent Science, Technology, Engineering and Mathematics 8hrs                   1                  1 to 10 days       married       Owner occupied        Semi detached house Islam    with both parents with family   None                     NaN                        No                  NaN             NaN            NaN              NaN                   NaN         NaN                         NaN           NaN                  NaN            Dead              Heart complications 23/05/2018      61 to 75         NaN        NaN                  Alive             NaN              NaN             NaN            10/05/1956 Widower             Monogamy                  Average   \n",
      "2020/04/25 11:18:57 PM GMT+1 06/03/1988 Male   Gambia             3                   2                   Black / African / Caribbean / Black British Degree or equivalent  Information Technology                           9hrs                   1                  1 to 10 days       married       Owner occupied        Flats               Islam    with both parents with family   None                     NaN                        No                  NaN             NaN            NaN              NaN                   NaN         NaN                         NaN           NaN                  NaN            Alive             NaN                 NaN             NaN              03/05/1943 Married              Alive             NaN              NaN             NaN            25/07/1965 Married             Polygamy                  Average   \n",
      "2020/04/25 11:19:22 PM GMT+1 18/12/1992 Female England            2                   2                   Black / African / Caribbean / Black British Certificate           Government and Public Administration             12hrs                  4                  21 to 30 days      never married Owner occupied        Semi detached house Islam    with both parents with family   None                     NaN                        No                  NaN             NaN            NaN              NaN                   NaN         NaN                         NaN           NaN                  NaN            Alive             NaN                 NaN             NaN              08/08/1964 Married              Alive             NaN              NaN             NaN            09/02/1964 Married             Monogamy                  Average   \n",
      "2020/04/25 11:24:47 PM GMT+1 02/09/2000 Male   Uk                 1                   3                   Black / African / Caribbean / Black British Degree or equivalent  Science, Technology, Engineering and Mathematics 9hrs                   2                  11 to 20 days      married       Housing association   Flats               Islam    with mother       with family   Alcohol;Tobacco;Cannabis Adolescence (Ages 12-20)   No                  NaN             NaN            NaN              NaN                   NaN         NaN                         NaN           NaN                  NaN            Alive             NaN                 NaN             NaN              15/06/1963 Married              Alive             NaN              NaN             NaN            08/02/1968 Single              Polygamy                  Average   \n",
      "\n",
      "                                                                                                                                                                                                                                                                                                                                                                                                                                                                                                                                                                                                                                                                                                                                                                                                                                                                                                          skin  \\\n",
      "Timestamp                    dob        gender countryofresidence birthpositionfather birthpositionmother ethnicity                                   highesteducation      occupation                                       averagedayworkinghours averagebreakperday averageyearholiday maritalstatus homeresidentialstatus hometype            religion childhoodliving   currentliving psychoactivesubstance    ageofpsychoactivesubstance mentalhealthhistory yearofdiagnosis mentalsymptoms mentalhealthtype mentalhealthtreatment medications everadmittedformentalhealth  admissionage treatmentcarepathway chronicillness fatherdeadoralive deathcausefather    fatherdeathdate fatherageatdeath dobfather  farthermaritalstatus motherdeadoralive deathcausemother motherdeathdate motherdeathage dobmother  mothermaritalstatus familybackground                                  last3weeksfeeling   \n",
      "2020/04/25 10:12:39 PM GMT+1 26/11/1986 Male   NaN                4                   4                   Black / African / Caribbean / Black British Masters or equivalent Science, Technology, Engineering and Mathematics 8hrs                   1                  1 to 10 days       married       Owner occupied        Semi detached house Islam    with both parents with family   None                     NaN                        No                  NaN             NaN            NaN              NaN                   NaN         NaN                         NaN           NaN                  NaN            Dead              Heart complications 23/05/2018      61 to 75         NaN        NaN                  Alive             NaN              NaN             NaN            10/05/1956 Widower             Monogamy          significant tiredness, low energy or problems ...   \n",
      "2020/04/25 11:18:57 PM GMT+1 06/03/1988 Male   Gambia             3                   2                   Black / African / Caribbean / Black British Degree or equivalent  Information Technology                           9hrs                   1                  1 to 10 days       married       Owner occupied        Flats               Islam    with both parents with family   None                     NaN                        No                  NaN             NaN            NaN              NaN                   NaN         NaN                         NaN           NaN                  NaN            Alive             NaN                 NaN             NaN              03/05/1943 Married              Alive             NaN              NaN             NaN            25/07/1965 Married             Polygamy                             Major changes in eating habits   \n",
      "2020/04/25 11:19:22 PM GMT+1 18/12/1992 Female England            2                   2                   Black / African / Caribbean / Black British Certificate           Government and Public Administration             12hrs                  4                  21 to 30 days      never married Owner occupied        Semi detached house Islam    with both parents with family   None                     NaN                        No                  NaN             NaN            NaN              NaN                   NaN         NaN                         NaN           NaN                  NaN            Alive             NaN                 NaN             NaN              08/08/1964 Married              Alive             NaN              NaN             NaN            09/02/1964 Married             Monogamy          Withdrawals from friends and activities;Sex dr...   \n",
      "2020/04/25 11:24:47 PM GMT+1 02/09/2000 Male   Uk                 1                   3                   Black / African / Caribbean / Black British Degree or equivalent  Science, Technology, Engineering and Mathematics 9hrs                   2                  11 to 20 days      married       Housing association   Flats               Islam    with mother       with family   Alcohol;Tobacco;Cannabis Adolescence (Ages 12-20)   No                  NaN             NaN            NaN              NaN                   NaN         NaN                         NaN           NaN                  NaN            Alive             NaN                 NaN             NaN              15/06/1963 Married              Alive             NaN              NaN             NaN            08/02/1968 Single              Polygamy          significant tiredness, low energy or problems ...   \n",
      "\n",
      "                                                                                                                                                                                                                                                                                                                                                                                                                                                                                                                                                                                                                                                                                                                                                                                                                                                                         test  \\\n",
      "Timestamp                    dob        gender countryofresidence birthpositionfather birthpositionmother ethnicity                                   highesteducation      occupation                                       averagedayworkinghours averagebreakperday averageyearholiday maritalstatus homeresidentialstatus hometype            religion childhoodliving   currentliving psychoactivesubstance    ageofpsychoactivesubstance mentalhealthhistory yearofdiagnosis mentalsymptoms mentalhealthtype mentalhealthtreatment medications everadmittedformentalhealth  admissionage treatmentcarepathway chronicillness fatherdeadoralive deathcausefather    fatherdeathdate fatherageatdeath dobfather  farthermaritalstatus motherdeadoralive deathcausemother motherdeathdate motherdeathage dobmother  mothermaritalstatus familybackground  chronicillnesses   \n",
      "2020/04/25 10:12:39 PM GMT+1 26/11/1986 Male   NaN                4                   4                   Black / African / Caribbean / Black British Masters or equivalent Science, Technology, Engineering and Mathematics 8hrs                   1                  1 to 10 days       married       Owner occupied        Semi detached house Islam    with both parents with family   None                     NaN                        No                  NaN             NaN            NaN              NaN                   NaN         NaN                         NaN           NaN                  NaN            Dead              Heart complications 23/05/2018      61 to 75         NaN        NaN                  Alive             NaN              NaN             NaN            10/05/1956 Widower             Monogamy                      None   \n",
      "2020/04/25 11:18:57 PM GMT+1 06/03/1988 Male   Gambia             3                   2                   Black / African / Caribbean / Black British Degree or equivalent  Information Technology                           9hrs                   1                  1 to 10 days       married       Owner occupied        Flats               Islam    with both parents with family   None                     NaN                        No                  NaN             NaN            NaN              NaN                   NaN         NaN                         NaN           NaN                  NaN            Alive             NaN                 NaN             NaN              03/05/1943 Married              Alive             NaN              NaN             NaN            25/07/1965 Married             Polygamy                      None   \n",
      "2020/04/25 11:19:22 PM GMT+1 18/12/1992 Female England            2                   2                   Black / African / Caribbean / Black British Certificate           Government and Public Administration             12hrs                  4                  21 to 30 days      never married Owner occupied        Semi detached house Islam    with both parents with family   None                     NaN                        No                  NaN             NaN            NaN              NaN                   NaN         NaN                         NaN           NaN                  NaN            Alive             NaN                 NaN             NaN              08/08/1964 Married              Alive             NaN              NaN             NaN            09/02/1964 Married             Monogamy                      None   \n",
      "2020/04/25 11:24:47 PM GMT+1 02/09/2000 Male   Uk                 1                   3                   Black / African / Caribbean / Black British Degree or equivalent  Science, Technology, Engineering and Mathematics 9hrs                   2                  11 to 20 days      married       Housing association   Flats               Islam    with mother       with family   Alcohol;Tobacco;Cannabis Adolescence (Ages 12-20)   No                  NaN             NaN            NaN              NaN                   NaN         NaN                         NaN           NaN                  NaN            Alive             NaN                 NaN             NaN              15/06/1963 Married              Alive             NaN              NaN             NaN            08/02/1968 Single              Polygamy                      None   \n",
      "\n",
      "                                                                                                                                                                                                                                                                                                                                                                                                                                                                                                                                                                                                                                                                                                                                                                                                                                                                       mass  \\\n",
      "Timestamp                    dob        gender countryofresidence birthpositionfather birthpositionmother ethnicity                                   highesteducation      occupation                                       averagedayworkinghours averagebreakperday averageyearholiday maritalstatus homeresidentialstatus hometype            religion childhoodliving   currentliving psychoactivesubstance    ageofpsychoactivesubstance mentalhealthhistory yearofdiagnosis mentalsymptoms mentalhealthtype mentalhealthtreatment medications everadmittedformentalhealth  admissionage treatmentcarepathway chronicillness fatherdeadoralive deathcausefather    fatherdeathdate fatherageatdeath dobfather  farthermaritalstatus motherdeadoralive deathcausemother motherdeathdate motherdeathage dobmother  mothermaritalstatus familybackground  forensicissues   \n",
      "2020/04/25 10:12:39 PM GMT+1 26/11/1986 Male   NaN                4                   4                   Black / African / Caribbean / Black British Masters or equivalent Science, Technology, Engineering and Mathematics 8hrs                   1                  1 to 10 days       married       Owner occupied        Semi detached house Islam    with both parents with family   None                     NaN                        No                  NaN             NaN            NaN              NaN                   NaN         NaN                         NaN           NaN                  NaN            Dead              Heart complications 23/05/2018      61 to 75         NaN        NaN                  Alive             NaN              NaN             NaN            10/05/1956 Widower             Monogamy                    None   \n",
      "2020/04/25 11:18:57 PM GMT+1 06/03/1988 Male   Gambia             3                   2                   Black / African / Caribbean / Black British Degree or equivalent  Information Technology                           9hrs                   1                  1 to 10 days       married       Owner occupied        Flats               Islam    with both parents with family   None                     NaN                        No                  NaN             NaN            NaN              NaN                   NaN         NaN                         NaN           NaN                  NaN            Alive             NaN                 NaN             NaN              03/05/1943 Married              Alive             NaN              NaN             NaN            25/07/1965 Married             Polygamy                    None   \n",
      "2020/04/25 11:19:22 PM GMT+1 18/12/1992 Female England            2                   2                   Black / African / Caribbean / Black British Certificate           Government and Public Administration             12hrs                  4                  21 to 30 days      never married Owner occupied        Semi detached house Islam    with both parents with family   None                     NaN                        No                  NaN             NaN            NaN              NaN                   NaN         NaN                         NaN           NaN                  NaN            Alive             NaN                 NaN             NaN              08/08/1964 Married              Alive             NaN              NaN             NaN            09/02/1964 Married             Monogamy                    None   \n",
      "2020/04/25 11:24:47 PM GMT+1 02/09/2000 Male   Uk                 1                   3                   Black / African / Caribbean / Black British Degree or equivalent  Science, Technology, Engineering and Mathematics 9hrs                   2                  11 to 20 days      married       Housing association   Flats               Islam    with mother       with family   Alcohol;Tobacco;Cannabis Adolescence (Ages 12-20)   No                  NaN             NaN            NaN              NaN                   NaN         NaN                         NaN           NaN                  NaN            Alive             NaN                 NaN             NaN              15/06/1963 Married              Alive             NaN              NaN             NaN            08/02/1968 Single              Polygamy                  Arrest   \n",
      "\n",
      "                                                                                                                                                                                                                                                                                                                                                                                                                                                                                                                                                                                                                                                                                                                                                                                                                                                                        pedi  \\\n",
      "Timestamp                    dob        gender countryofresidence birthpositionfather birthpositionmother ethnicity                                   highesteducation      occupation                                       averagedayworkinghours averagebreakperday averageyearholiday maritalstatus homeresidentialstatus hometype            religion childhoodliving   currentliving psychoactivesubstance    ageofpsychoactivesubstance mentalhealthhistory yearofdiagnosis mentalsymptoms mentalhealthtype mentalhealthtreatment medications everadmittedformentalhealth  admissionage treatmentcarepathway chronicillness fatherdeadoralive deathcausefather    fatherdeathdate fatherageatdeath dobfather  farthermaritalstatus motherdeadoralive deathcausemother motherdeathdate motherdeathage dobmother  mothermaritalstatus familybackground  homicidehistory   \n",
      "2020/04/25 10:12:39 PM GMT+1 26/11/1986 Male   NaN                4                   4                   Black / African / Caribbean / Black British Masters or equivalent Science, Technology, Engineering and Mathematics 8hrs                   1                  1 to 10 days       married       Owner occupied        Semi detached house Islam    with both parents with family   None                     NaN                        No                  NaN             NaN            NaN              NaN                   NaN         NaN                         NaN           NaN                  NaN            Dead              Heart complications 23/05/2018      61 to 75         NaN        NaN                  Alive             NaN              NaN             NaN            10/05/1956 Widower             Monogamy                     None   \n",
      "2020/04/25 11:18:57 PM GMT+1 06/03/1988 Male   Gambia             3                   2                   Black / African / Caribbean / Black British Degree or equivalent  Information Technology                           9hrs                   1                  1 to 10 days       married       Owner occupied        Flats               Islam    with both parents with family   None                     NaN                        No                  NaN             NaN            NaN              NaN                   NaN         NaN                         NaN           NaN                  NaN            Alive             NaN                 NaN             NaN              03/05/1943 Married              Alive             NaN              NaN             NaN            25/07/1965 Married             Polygamy                     None   \n",
      "2020/04/25 11:19:22 PM GMT+1 18/12/1992 Female England            2                   2                   Black / African / Caribbean / Black British Certificate           Government and Public Administration             12hrs                  4                  21 to 30 days      never married Owner occupied        Semi detached house Islam    with both parents with family   None                     NaN                        No                  NaN             NaN            NaN              NaN                   NaN         NaN                         NaN           NaN                  NaN            Alive             NaN                 NaN             NaN              08/08/1964 Married              Alive             NaN              NaN             NaN            09/02/1964 Married             Monogamy                     None   \n",
      "2020/04/25 11:24:47 PM GMT+1 02/09/2000 Male   Uk                 1                   3                   Black / African / Caribbean / Black British Degree or equivalent  Science, Technology, Engineering and Mathematics 9hrs                   2                  11 to 20 days      married       Housing association   Flats               Islam    with mother       with family   Alcohol;Tobacco;Cannabis Adolescence (Ages 12-20)   No                  NaN             NaN            NaN              NaN                   NaN         NaN                         NaN           NaN                  NaN            Alive             NaN                 NaN             NaN              15/06/1963 Married              Alive             NaN              NaN             NaN            08/02/1968 Single              Polygamy                     None   \n",
      "\n",
      "                                                                                                                                                                                                                                                                                                                                                                                                                                                                                                                                                                                                                                                                                                                                                                                                                                                                                                           age  \\\n",
      "Timestamp                    dob        gender countryofresidence birthpositionfather birthpositionmother ethnicity                                   highesteducation      occupation                                       averagedayworkinghours averagebreakperday averageyearholiday maritalstatus homeresidentialstatus hometype            religion childhoodliving   currentliving psychoactivesubstance    ageofpsychoactivesubstance mentalhealthhistory yearofdiagnosis mentalsymptoms mentalhealthtype mentalhealthtreatment medications everadmittedformentalhealth  admissionage treatmentcarepathway chronicillness fatherdeadoralive deathcausefather    fatherdeathdate fatherageatdeath dobfather  farthermaritalstatus motherdeadoralive deathcausemother motherdeathdate motherdeathage dobmother  mothermaritalstatus familybackground                                   socialmediauasge   \n",
      "2020/04/25 10:12:39 PM GMT+1 26/11/1986 Male   NaN                4                   4                   Black / African / Caribbean / Black British Masters or equivalent Science, Technology, Engineering and Mathematics 8hrs                   1                  1 to 10 days       married       Owner occupied        Semi detached house Islam    with both parents with family   None                     NaN                        No                  NaN             NaN            NaN              NaN                   NaN         NaN                         NaN           NaN                  NaN            Dead              Heart complications 23/05/2018      61 to 75         NaN        NaN                  Alive             NaN              NaN             NaN            10/05/1956 Widower             Monogamy                  Facebook;Twitter;YouTube;WhatApp;LinkedIn   \n",
      "2020/04/25 11:18:57 PM GMT+1 06/03/1988 Male   Gambia             3                   2                   Black / African / Caribbean / Black British Degree or equivalent  Information Technology                           9hrs                   1                  1 to 10 days       married       Owner occupied        Flats               Islam    with both parents with family   None                     NaN                        No                  NaN             NaN            NaN              NaN                   NaN         NaN                         NaN           NaN                  NaN            Alive             NaN                 NaN             NaN              03/05/1943 Married              Alive             NaN              NaN             NaN            25/07/1965 Married             Polygamy          Facebook;Instagram;Twitter;SnapChat;Tik Tok;Yo...   \n",
      "2020/04/25 11:19:22 PM GMT+1 18/12/1992 Female England            2                   2                   Black / African / Caribbean / Black British Certificate           Government and Public Administration             12hrs                  4                  21 to 30 days      never married Owner occupied        Semi detached house Islam    with both parents with family   None                     NaN                        No                  NaN             NaN            NaN              NaN                   NaN         NaN                         NaN           NaN                  NaN            Alive             NaN                 NaN             NaN              08/08/1964 Married              Alive             NaN              NaN             NaN            09/02/1964 Married             Monogamy          Facebook;Instagram;Twitter;SnapChat;YouTube;Wh...   \n",
      "2020/04/25 11:24:47 PM GMT+1 02/09/2000 Male   Uk                 1                   3                   Black / African / Caribbean / Black British Degree or equivalent  Science, Technology, Engineering and Mathematics 9hrs                   2                  11 to 20 days      married       Housing association   Flats               Islam    with mother       with family   Alcohol;Tobacco;Cannabis Adolescence (Ages 12-20)   No                  NaN             NaN            NaN              NaN                   NaN         NaN                         NaN           NaN                  NaN            Alive             NaN                 NaN             NaN              15/06/1963 Married              Alive             NaN              NaN             NaN            08/02/1968 Single              Polygamy                                           Facebook;WhatApp   \n",
      "\n",
      "                                                                                                                                                                                                                                                                                                                                                                                                                                                                                                                                                                                                                                                                                                                                                                                                                                                                            class  \n",
      "Timestamp                    dob        gender countryofresidence birthpositionfather birthpositionmother ethnicity                                   highesteducation      occupation                                       averagedayworkinghours averagebreakperday averageyearholiday maritalstatus homeresidentialstatus hometype            religion childhoodliving   currentliving psychoactivesubstance    ageofpsychoactivesubstance mentalhealthhistory yearofdiagnosis mentalsymptoms mentalhealthtype mentalhealthtreatment medications everadmittedformentalhealth  admissionage treatmentcarepathway chronicillness fatherdeadoralive deathcausefather    fatherdeathdate fatherageatdeath dobfather  farthermaritalstatus motherdeadoralive deathcausemother motherdeathdate motherdeathage dobmother  mothermaritalstatus familybackground  socialmediauseperday  \n",
      "2020/04/25 10:12:39 PM GMT+1 26/11/1986 Male   NaN                4                   4                   Black / African / Caribbean / Black British Masters or equivalent Science, Technology, Engineering and Mathematics 8hrs                   1                  1 to 10 days       married       Owner occupied        Semi detached house Islam    with both parents with family   None                     NaN                        No                  NaN             NaN            NaN              NaN                   NaN         NaN                         NaN           NaN                  NaN            Dead              Heart complications 23/05/2018      61 to 75         NaN        NaN                  Alive             NaN              NaN             NaN            10/05/1956 Widower             Monogamy                3 hrs to 5 hrs  \n",
      "2020/04/25 11:18:57 PM GMT+1 06/03/1988 Male   Gambia             3                   2                   Black / African / Caribbean / Black British Degree or equivalent  Information Technology                           9hrs                   1                  1 to 10 days       married       Owner occupied        Flats               Islam    with both parents with family   None                     NaN                        No                  NaN             NaN            NaN              NaN                   NaN         NaN                         NaN           NaN                  NaN            Alive             NaN                 NaN             NaN              03/05/1943 Married              Alive             NaN              NaN             NaN            25/07/1965 Married             Polygamy                    10hrs plus  \n",
      "2020/04/25 11:19:22 PM GMT+1 18/12/1992 Female England            2                   2                   Black / African / Caribbean / Black British Certificate           Government and Public Administration             12hrs                  4                  21 to 30 days      never married Owner occupied        Semi detached house Islam    with both parents with family   None                     NaN                        No                  NaN             NaN            NaN              NaN                   NaN         NaN                         NaN           NaN                  NaN            Alive             NaN                 NaN             NaN              08/08/1964 Married              Alive             NaN              NaN             NaN            09/02/1964 Married             Monogamy               6 hrs to 10 hrs  \n",
      "2020/04/25 11:24:47 PM GMT+1 02/09/2000 Male   Uk                 1                   3                   Black / African / Caribbean / Black British Degree or equivalent  Science, Technology, Engineering and Mathematics 9hrs                   2                  11 to 20 days      married       Housing association   Flats               Islam    with mother       with family   Alcohol;Tobacco;Cannabis Adolescence (Ages 12-20)   No                  NaN             NaN            NaN              NaN                   NaN         NaN                         NaN           NaN                  NaN            Alive             NaN                 NaN             NaN              15/06/1963 Married              Alive             NaN              NaN             NaN            08/02/1968 Single              Polygamy                3 hrs to 5 hrs  \n"
     ]
    }
   ],
   "source": [
    "import numpy as np\n",
    "import pandas as pd\n",
    "from pandas import read_csv\n",
    "from sklearn.impute import SimpleImputer\n",
    "\n",
    "\n",
    "my_data = read_csv(\"MentalHQ2020withHeader.csv\", names=headers)\n",
    "print(my_data.shape)\n",
    "print(my_data[:5])\n",
    "\n",
    "my_data = my_data.dropna()\n",
    "print(my_data[:5])"
   ],
   "metadata": {
    "collapsed": false,
    "pycharm": {
     "name": "#%%\n"
    }
   }
  },
  {
   "cell_type": "code",
   "execution_count": 124,
   "outputs": [],
   "source": [],
   "metadata": {
    "collapsed": false,
    "pycharm": {
     "name": "#%%\n"
    }
   }
  }
 ],
 "metadata": {
  "kernelspec": {
   "display_name": "Python 3 (ipykernel)",
   "language": "python",
   "name": "python3"
  },
  "language_info": {
   "codemirror_mode": {
    "name": "ipython",
    "version": 3
   },
   "file_extension": ".py",
   "mimetype": "text/x-python",
   "name": "python",
   "nbconvert_exporter": "python",
   "pygments_lexer": "ipython3",
   "version": "3.10.2"
  }
 },
 "nbformat": 4,
 "nbformat_minor": 1
}